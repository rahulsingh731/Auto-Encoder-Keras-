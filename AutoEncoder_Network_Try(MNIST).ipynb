{
  "nbformat": 4,
  "nbformat_minor": 0,
  "metadata": {
    "colab": {
      "name": "AutoEncoder Network Try(MNIST)",
      "provenance": [],
      "collapsed_sections": [],
      "authorship_tag": "ABX9TyOEo5hWkp2nLkZK773hEEG7"
    },
    "kernelspec": {
      "name": "python3",
      "display_name": "Python 3"
    }
  },
  "cells": [
    {
      "cell_type": "code",
      "metadata": {
        "id": "Ht6EhR5tUudk",
        "colab_type": "code",
        "colab": {}
      },
      "source": [
        "from keras.models import Model\n",
        "from keras.layers import *\n",
        "from keras.datasets import mnist\n",
        "import numpy as np\n",
        "import matplotlib.pyplot as plt"
      ],
      "execution_count": 0,
      "outputs": []
    },
    {
      "cell_type": "code",
      "metadata": {
        "id": "zbaIpINBVihT",
        "colab_type": "code",
        "colab": {}
      },
      "source": [
        "encoded_dim = 64"
      ],
      "execution_count": 0,
      "outputs": []
    },
    {
      "cell_type": "code",
      "metadata": {
        "id": "rYvYRA2jVrHG",
        "colab_type": "code",
        "colab": {}
      },
      "source": [
        "input_img = Input(shape=(784,))\n",
        "encoded = Dense(encoding_dim,activation='relu',)(input_img)\n",
        "decoded = Dense(784,activation='sigmoid')(encoded)\n",
        "\n",
        "autoencoder = Model(input_img,decoded)\n",
        "\n",
        "encoder = Model(input_img,encoded)\n",
        "\n",
        "encoded_input = Input(shape=(encoded_dim,))\n",
        "\n",
        "decoder_layer = autoencoder.layers[-1]\n",
        "\n",
        "decoder = Model(encoded_input,decoder_layer(encoded_input))\n"
      ],
      "execution_count": 0,
      "outputs": []
    },
    {
      "cell_type": "code",
      "metadata": {
        "id": "Uif48w35Wvm6",
        "colab_type": "code",
        "colab": {}
      },
      "source": [
        "autoencoder.compile(optimizer='adadelta',loss='binary_crossentropy')"
      ],
      "execution_count": 0,
      "outputs": []
    },
    {
      "cell_type": "code",
      "metadata": {
        "id": "r_MgY6ucXDNq",
        "colab_type": "code",
        "colab": {}
      },
      "source": [
        "(x_train,_),(x_test,_) = mnist.load_data()"
      ],
      "execution_count": 0,
      "outputs": []
    },
    {
      "cell_type": "code",
      "metadata": {
        "id": "i2QxgWcPXKBi",
        "colab_type": "code",
        "colab": {}
      },
      "source": [
        "x_train =x_train.astype('float32')/255.0\n",
        "x_test =x_test.astype('float32')/255.0"
      ],
      "execution_count": 0,
      "outputs": []
    },
    {
      "cell_type": "code",
      "metadata": {
        "id": "jyqUCPNQXblu",
        "colab_type": "code",
        "colab": {}
      },
      "source": [
        "x_train = x_train.reshape((len(x_train),(np.prod(x_train.shape[1:]))))\n",
        "x_test = x_test.reshape((len(x_test),(np.prod(x_test.shape[1:]))))"
      ],
      "execution_count": 0,
      "outputs": []
    },
    {
      "cell_type": "code",
      "metadata": {
        "id": "F5lHFrKBXnIL",
        "colab_type": "code",
        "colab": {
          "base_uri": "https://localhost:8080/",
          "height": 34
        },
        "outputId": "343a021b-815a-431a-d7e9-0d0156590e04"
      },
      "source": [
        "x_train.shape"
      ],
      "execution_count": 27,
      "outputs": [
        {
          "output_type": "execute_result",
          "data": {
            "text/plain": [
              "(60000, 784)"
            ]
          },
          "metadata": {
            "tags": []
          },
          "execution_count": 27
        }
      ]
    },
    {
      "cell_type": "code",
      "metadata": {
        "id": "bFjkLWStYHhe",
        "colab_type": "code",
        "colab": {
          "base_uri": "https://localhost:8080/",
          "height": 34
        },
        "outputId": "b28164b6-cc54-454e-8e0c-bc62f9d12fb0"
      },
      "source": [
        "x_test.shape"
      ],
      "execution_count": 28,
      "outputs": [
        {
          "output_type": "execute_result",
          "data": {
            "text/plain": [
              "(10000, 784)"
            ]
          },
          "metadata": {
            "tags": []
          },
          "execution_count": 28
        }
      ]
    },
    {
      "cell_type": "code",
      "metadata": {
        "id": "hh2J7GWNYKBJ",
        "colab_type": "code",
        "colab": {
          "base_uri": "https://localhost:8080/",
          "height": 1000
        },
        "outputId": "7b956e5f-8afc-4603-ea5d-faa566701071"
      },
      "source": [
        "autoencoder.fit(x_train,x_train,batch_size=256,epochs=50,shuffle=True,validation_data=(x_test,x_test))"
      ],
      "execution_count": 29,
      "outputs": [
        {
          "output_type": "stream",
          "text": [
            "Train on 60000 samples, validate on 10000 samples\n",
            "Epoch 1/50\n",
            "60000/60000 [==============================] - 3s 48us/step - loss: 0.3494 - val_loss: 0.2671\n",
            "Epoch 2/50\n",
            "60000/60000 [==============================] - 3s 47us/step - loss: 0.2564 - val_loss: 0.2420\n",
            "Epoch 3/50\n",
            "60000/60000 [==============================] - 3s 47us/step - loss: 0.2303 - val_loss: 0.2169\n",
            "Epoch 4/50\n",
            "60000/60000 [==============================] - 3s 47us/step - loss: 0.2096 - val_loss: 0.2001\n",
            "Epoch 5/50\n",
            "60000/60000 [==============================] - 3s 47us/step - loss: 0.1957 - val_loss: 0.1886\n",
            "Epoch 6/50\n",
            "60000/60000 [==============================] - 3s 47us/step - loss: 0.1855 - val_loss: 0.1796\n",
            "Epoch 7/50\n",
            "60000/60000 [==============================] - 3s 47us/step - loss: 0.1773 - val_loss: 0.1722\n",
            "Epoch 8/50\n",
            "60000/60000 [==============================] - 3s 47us/step - loss: 0.1703 - val_loss: 0.1657\n",
            "Epoch 9/50\n",
            "60000/60000 [==============================] - 3s 47us/step - loss: 0.1642 - val_loss: 0.1599\n",
            "Epoch 10/50\n",
            "60000/60000 [==============================] - 3s 47us/step - loss: 0.1587 - val_loss: 0.1548\n",
            "Epoch 11/50\n",
            "60000/60000 [==============================] - 3s 47us/step - loss: 0.1538 - val_loss: 0.1501\n",
            "Epoch 12/50\n",
            "60000/60000 [==============================] - 3s 47us/step - loss: 0.1494 - val_loss: 0.1461\n",
            "Epoch 13/50\n",
            "60000/60000 [==============================] - 3s 47us/step - loss: 0.1454 - val_loss: 0.1421\n",
            "Epoch 14/50\n",
            "60000/60000 [==============================] - 3s 47us/step - loss: 0.1417 - val_loss: 0.1386\n",
            "Epoch 15/50\n",
            "60000/60000 [==============================] - 3s 47us/step - loss: 0.1384 - val_loss: 0.1354\n",
            "Epoch 16/50\n",
            "60000/60000 [==============================] - 3s 47us/step - loss: 0.1353 - val_loss: 0.1325\n",
            "Epoch 17/50\n",
            "60000/60000 [==============================] - 3s 47us/step - loss: 0.1325 - val_loss: 0.1297\n",
            "Epoch 18/50\n",
            "60000/60000 [==============================] - 3s 47us/step - loss: 0.1298 - val_loss: 0.1271\n",
            "Epoch 19/50\n",
            "60000/60000 [==============================] - 3s 48us/step - loss: 0.1273 - val_loss: 0.1247\n",
            "Epoch 20/50\n",
            "60000/60000 [==============================] - 3s 47us/step - loss: 0.1250 - val_loss: 0.1223\n",
            "Epoch 21/50\n",
            "60000/60000 [==============================] - 3s 47us/step - loss: 0.1227 - val_loss: 0.1201\n",
            "Epoch 22/50\n",
            "60000/60000 [==============================] - 3s 47us/step - loss: 0.1206 - val_loss: 0.1181\n",
            "Epoch 23/50\n",
            "60000/60000 [==============================] - 3s 48us/step - loss: 0.1185 - val_loss: 0.1161\n",
            "Epoch 24/50\n",
            "60000/60000 [==============================] - 3s 47us/step - loss: 0.1166 - val_loss: 0.1141\n",
            "Epoch 25/50\n",
            "60000/60000 [==============================] - 3s 47us/step - loss: 0.1148 - val_loss: 0.1124\n",
            "Epoch 26/50\n",
            "60000/60000 [==============================] - 3s 47us/step - loss: 0.1131 - val_loss: 0.1107\n",
            "Epoch 27/50\n",
            "60000/60000 [==============================] - 3s 47us/step - loss: 0.1114 - val_loss: 0.1091\n",
            "Epoch 28/50\n",
            "60000/60000 [==============================] - 3s 47us/step - loss: 0.1099 - val_loss: 0.1077\n",
            "Epoch 29/50\n",
            "60000/60000 [==============================] - 3s 47us/step - loss: 0.1085 - val_loss: 0.1063\n",
            "Epoch 30/50\n",
            "60000/60000 [==============================] - 3s 48us/step - loss: 0.1071 - val_loss: 0.1050\n",
            "Epoch 31/50\n",
            "60000/60000 [==============================] - 3s 47us/step - loss: 0.1059 - val_loss: 0.1037\n",
            "Epoch 32/50\n",
            "60000/60000 [==============================] - 3s 47us/step - loss: 0.1047 - val_loss: 0.1026\n",
            "Epoch 33/50\n",
            "60000/60000 [==============================] - 3s 47us/step - loss: 0.1036 - val_loss: 0.1016\n",
            "Epoch 34/50\n",
            "60000/60000 [==============================] - 3s 47us/step - loss: 0.1025 - val_loss: 0.1005\n",
            "Epoch 35/50\n",
            "60000/60000 [==============================] - 3s 47us/step - loss: 0.1015 - val_loss: 0.0996\n",
            "Epoch 36/50\n",
            "60000/60000 [==============================] - 3s 47us/step - loss: 0.1006 - val_loss: 0.0987\n",
            "Epoch 37/50\n",
            "60000/60000 [==============================] - 3s 47us/step - loss: 0.0997 - val_loss: 0.0978\n",
            "Epoch 38/50\n",
            "60000/60000 [==============================] - 3s 47us/step - loss: 0.0989 - val_loss: 0.0971\n",
            "Epoch 39/50\n",
            "60000/60000 [==============================] - 3s 47us/step - loss: 0.0981 - val_loss: 0.0963\n",
            "Epoch 40/50\n",
            "60000/60000 [==============================] - 3s 47us/step - loss: 0.0974 - val_loss: 0.0956\n",
            "Epoch 41/50\n",
            "60000/60000 [==============================] - 3s 47us/step - loss: 0.0967 - val_loss: 0.0950\n",
            "Epoch 42/50\n",
            "60000/60000 [==============================] - 3s 47us/step - loss: 0.0961 - val_loss: 0.0943\n",
            "Epoch 43/50\n",
            "60000/60000 [==============================] - 3s 47us/step - loss: 0.0954 - val_loss: 0.0937\n",
            "Epoch 44/50\n",
            "60000/60000 [==============================] - 3s 46us/step - loss: 0.0948 - val_loss: 0.0932\n",
            "Epoch 45/50\n",
            "60000/60000 [==============================] - 3s 47us/step - loss: 0.0943 - val_loss: 0.0926\n",
            "Epoch 46/50\n",
            "60000/60000 [==============================] - 3s 47us/step - loss: 0.0937 - val_loss: 0.0921\n",
            "Epoch 47/50\n",
            "60000/60000 [==============================] - 3s 47us/step - loss: 0.0932 - val_loss: 0.0916\n",
            "Epoch 48/50\n",
            "60000/60000 [==============================] - 3s 47us/step - loss: 0.0927 - val_loss: 0.0911\n",
            "Epoch 49/50\n",
            "60000/60000 [==============================] - 3s 48us/step - loss: 0.0923 - val_loss: 0.0907\n",
            "Epoch 50/50\n",
            "60000/60000 [==============================] - 3s 47us/step - loss: 0.0918 - val_loss: 0.0903\n"
          ],
          "name": "stdout"
        },
        {
          "output_type": "execute_result",
          "data": {
            "text/plain": [
              "<keras.callbacks.callbacks.History at 0x7f07ff0749e8>"
            ]
          },
          "metadata": {
            "tags": []
          },
          "execution_count": 29
        }
      ]
    },
    {
      "cell_type": "code",
      "metadata": {
        "id": "Ho8EnehgYexh",
        "colab_type": "code",
        "colab": {}
      },
      "source": [
        "encoded_imgs = encoder.predict(x_test)\n",
        "decoded_imgs = decoder.predict(encoded_imgs)"
      ],
      "execution_count": 0,
      "outputs": []
    },
    {
      "cell_type": "code",
      "metadata": {
        "id": "SZrqrPfHY5Nt",
        "colab_type": "code",
        "colab": {
          "base_uri": "https://localhost:8080/",
          "height": 248
        },
        "outputId": "284ec6aa-f95f-4abb-d94f-0bb579efe775"
      },
      "source": [
        "n = 10\n",
        "plt.figure(figsize=(20,4))\n",
        "for i in range(n):\n",
        "    ax = plt.subplot(2,n,i+1)\n",
        "    plt.imshow(x_test[i].reshape(28,28))\n",
        "    plt.gray()\n",
        "    ax.get_xaxis().set_visible(False)\n",
        "    ax.get_yaxis().set_visible(False)\n",
        "    ax = plt.subplot(2,n,i+1+n)\n",
        "    plt.imshow(decoded_imgs[i].reshape(28,28))\n",
        "    plt.gray()\n",
        "    ax.get_xaxis().set_visible(False)\n",
        "    ax.get_yaxis().set_visible(False)\n",
        "plt.show()\n",
        "                               "
      ],
      "execution_count": 33,
      "outputs": [
        {
          "output_type": "display_data",
          "data": {
            "image/png": "[encoded data removed]",
            "text/plain": [
              "<Figure size 1440x288 with 20 Axes>"
            ]
          },
          "metadata": {
            "tags": [],
            "needs_background": "light"
          }
        }
      ]
    },
    {
      "cell_type": "code",
      "metadata": {
        "id": "amXaIKPbaltq",
        "colab_type": "code",
        "colab": {}
      },
      "source": [
        ""
      ],
      "execution_count": 0,
      "outputs": []
    }
  ]
}